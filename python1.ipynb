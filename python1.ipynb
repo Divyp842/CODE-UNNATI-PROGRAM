{
 "cells": [
  {
   "cell_type": "code",
   "execution_count": 1,
   "metadata": {},
   "outputs": [
    {
     "name": "stdout",
     "output_type": "stream",
     "text": [
      "0.25.1\n"
     ]
    }
   ],
   "source": [
    "import pandas as pd\n",
    "print(pd.__version__)"
   ]
  },
  {
   "cell_type": "code",
   "execution_count": 2,
   "metadata": {},
   "outputs": [
    {
     "name": "stdout",
     "output_type": "stream",
     "text": [
      "Series([], dtype: float64)\n",
      "0    g\n",
      "1    e\n",
      "2    e\n",
      "3    k\n",
      "4    s\n",
      "dtype: object\n"
     ]
    }
   ],
   "source": [
    "import pandas as pd\n",
    "import numpy as np\n",
    "\n",
    "\n",
    "ser = pd.Series()\n",
    "print(ser)\n",
    "\n",
    "data = np.array(['g','e','e','k','s'])\n",
    "ser = pd.Series(data)\n",
    "print(ser)"
   ]
  },
  {
   "cell_type": "code",
   "execution_count": 3,
   "metadata": {},
   "outputs": [
    {
     "name": "stdout",
     "output_type": "stream",
     "text": [
      "1.16.5\n"
     ]
    }
   ],
   "source": [
    "import numpy as np\n",
    "print(np.__version__)"
   ]
  },
  {
   "cell_type": "code",
   "execution_count": 4,
   "metadata": {},
   "outputs": [
    {
     "name": "stdout",
     "output_type": "stream",
     "text": [
      "0    g\n",
      "1    e\n",
      "2    e\n",
      "3    k\n",
      "4    s\n",
      "dtype: object\n"
     ]
    }
   ],
   "source": [
    "import pandas as pd\n",
    "\n",
    "list = ['g','e','e','k','s']\n",
    "ser = pd.Series(list)\n",
    "print(ser)"
   ]
  },
  {
   "cell_type": "code",
   "execution_count": 5,
   "metadata": {},
   "outputs": [
    {
     "name": "stdout",
     "output_type": "stream",
     "text": [
      "        Time.Month    Time.Year  Statistics.# of Delays.Carrier  \\\n",
      "count  4408.000000  4408.000000                     4408.000000   \n",
      "mean      6.578947  2009.243421                      574.632486   \n",
      "std       3.457890     3.667475                      329.616475   \n",
      "min       1.000000  2003.000000                      112.000000   \n",
      "25%       4.000000  2006.000000                      358.000000   \n",
      "50%       7.000000  2009.000000                      476.000000   \n",
      "75%      10.000000  2012.000000                      692.000000   \n",
      "max      12.000000  2016.000000                     3087.000000   \n",
      "\n",
      "       Statistics.# of Delays.Late Aircraft  \\\n",
      "count                           4408.000000   \n",
      "mean                             789.078947   \n",
      "std                              561.798420   \n",
      "min                               86.000000   \n",
      "25%                              425.000000   \n",
      "50%                              618.500000   \n",
      "75%                              959.000000   \n",
      "max                             4483.000000   \n",
      "\n",
      "       Statistics.# of Delays.National Aviation System  \\\n",
      "count                                      4408.000000   \n",
      "mean                                        954.580309   \n",
      "std                                         921.907801   \n",
      "min                                          61.000000   \n",
      "25%                                         399.000000   \n",
      "50%                                         667.500000   \n",
      "75%                                        1166.000000   \n",
      "max                                        9066.000000   \n",
      "\n",
      "       Statistics.# of Delays.Security  Statistics.# of Delays.Weather  \\\n",
      "count                      4408.000000                     4408.000000   \n",
      "mean                          5.575544                       78.216878   \n",
      "std                           6.007046                       75.181726   \n",
      "min                          -1.000000                        1.000000   \n",
      "25%                           2.000000                       33.000000   \n",
      "50%                           4.000000                       58.000000   \n",
      "75%                           7.000000                       98.000000   \n",
      "max                          94.000000                      812.000000   \n",
      "\n",
      "       Statistics.Carriers.Total  Statistics.Flights.Cancelled  \\\n",
      "count                4408.000000                   4408.000000   \n",
      "mean                   12.253403                    213.558076   \n",
      "std                     2.289861                    288.873477   \n",
      "min                     3.000000                      3.000000   \n",
      "25%                    11.000000                     58.000000   \n",
      "50%                    12.000000                    123.000000   \n",
      "75%                    14.000000                    250.000000   \n",
      "max                    18.000000                   3680.000000   \n",
      "\n",
      "       Statistics.Flights.Delayed  Statistics.Flights.Diverted  \\\n",
      "count                 4408.000000                  4408.000000   \n",
      "mean                  2402.000454                    27.880898   \n",
      "std                   1710.947613                    36.356399   \n",
      "min                    283.000000                     0.000000   \n",
      "25%                   1298.750000                     8.000000   \n",
      "50%                   1899.000000                    15.000000   \n",
      "75%                   2950.000000                    32.000000   \n",
      "max                  13699.000000                   442.000000   \n",
      "\n",
      "       Statistics.Flights.On Time  Statistics.Flights.Total  \\\n",
      "count                 4408.000000               4408.000000   \n",
      "mean                  9254.420826              11897.860254   \n",
      "std                   5337.214211               6861.691876   \n",
      "min                   2003.000000               2533.000000   \n",
      "25%                   5708.750000               7400.000000   \n",
      "50%                   7477.000000               9739.500000   \n",
      "75%                  10991.500000              13842.500000   \n",
      "max                  31468.000000              38241.000000   \n",
      "\n",
      "       Statistics.Minutes Delayed.Carrier  \\\n",
      "count                         4408.000000   \n",
      "mean                         35021.369782   \n",
      "std                          24327.721037   \n",
      "min                           6016.000000   \n",
      "25%                          19530.750000   \n",
      "50%                          27782.000000   \n",
      "75%                          41606.000000   \n",
      "max                         220796.000000   \n",
      "\n",
      "       Statistics.Minutes Delayed.Late Aircraft  \\\n",
      "count                               4408.000000   \n",
      "mean                               49410.274955   \n",
      "std                                38750.017050   \n",
      "min                                 5121.000000   \n",
      "25%                                25084.250000   \n",
      "50%                                37483.000000   \n",
      "75%                                59951.250000   \n",
      "max                               345456.000000   \n",
      "\n",
      "       Statistics.Minutes Delayed.National Aviation System  \\\n",
      "count                                        4408.000000     \n",
      "mean                                        45077.107985     \n",
      "std                                         57636.745683     \n",
      "min                                          2183.000000     \n",
      "25%                                         14389.000000     \n",
      "50%                                         25762.000000     \n",
      "75%                                         50362.000000     \n",
      "max                                        602479.000000     \n",
      "\n",
      "       Statistics.Minutes Delayed.Security  Statistics.Minutes Delayed.Total  \\\n",
      "count                          4408.000000                       4408.000000   \n",
      "mean                            211.769737                     135997.535163   \n",
      "std                             257.174789                     113972.276370   \n",
      "min                               0.000000                      14752.000000   \n",
      "25%                              65.000000                      65444.750000   \n",
      "50%                             141.000000                     100711.000000   \n",
      "75%                             274.000000                     164294.750000   \n",
      "max                            4949.000000                     989367.000000   \n",
      "\n",
      "       Statistics.Minutes Delayed.Weather  \n",
      "count                         4408.000000  \n",
      "mean                          6276.982759  \n",
      "std                           6477.417169  \n",
      "min                             46.000000  \n",
      "25%                           2310.750000  \n",
      "50%                           4298.500000  \n",
      "75%                           7846.000000  \n",
      "max                          76770.000000  \n"
     ]
    }
   ],
   "source": [
    "import pandas as pd\n",
    "data = pd.read_csv(\"airlines .csv\")\n",
    "print(data.describe())"
   ]
  },
  {
   "cell_type": "code",
   "execution_count": 6,
   "metadata": {},
   "outputs": [
    {
     "name": "stdout",
     "output_type": "stream",
     "text": [
      "     0\n",
      "0  gdd\n",
      "1  edd\n",
      "2  edd\n",
      "3  kdd\n",
      "4  sdd\n"
     ]
    }
   ],
   "source": [
    "lst = ['gdd','edd','edd','kdd','sdd']\n",
    "df = pd.DataFrame(lst)\n",
    "print(df)"
   ]
  },
  {
   "cell_type": "code",
   "execution_count": 7,
   "metadata": {},
   "outputs": [
    {
     "name": "stdout",
     "output_type": "stream",
     "text": [
      "  Name  Age\n",
      "0  gdd   20\n",
      "1  edd   21\n",
      "2  edd   22\n",
      "3  kdd   23\n",
      "4  sdd   25\n"
     ]
    }
   ],
   "source": [
    "import pandas as pd\n",
    "\n",
    "data = { 'Name':['gdd','edd','edd','kdd','sdd'],\n",
    "       'Age':[20,21,22,23,25]}\n",
    "df = pd.DataFrame(data)\n",
    "print(df)"
   ]
  },
  {
   "cell_type": "code",
   "execution_count": 11,
   "metadata": {},
   "outputs": [
    {
     "data": {
      "text/html": [
       "<div>\n",
       "<style scoped>\n",
       "    .dataframe tbody tr th:only-of-type {\n",
       "        vertical-align: middle;\n",
       "    }\n",
       "\n",
       "    .dataframe tbody tr th {\n",
       "        vertical-align: top;\n",
       "    }\n",
       "\n",
       "    .dataframe thead th {\n",
       "        text-align: right;\n",
       "    }\n",
       "</style>\n",
       "<table border=\"1\" class=\"dataframe\">\n",
       "  <thead>\n",
       "    <tr style=\"text-align: right;\">\n",
       "      <th></th>\n",
       "      <th>p</th>\n",
       "      <th>q</th>\n",
       "      <th>r</th>\n",
       "      <th>s</th>\n",
       "    </tr>\n",
       "  </thead>\n",
       "  <tbody>\n",
       "    <tr>\n",
       "      <td>gdd</td>\n",
       "      <td>4</td>\n",
       "      <td>2</td>\n",
       "      <td>3</td>\n",
       "      <td>2</td>\n",
       "    </tr>\n",
       "    <tr>\n",
       "      <td>edd</td>\n",
       "      <td>5</td>\n",
       "      <td>3</td>\n",
       "      <td>4</td>\n",
       "      <td>3</td>\n",
       "    </tr>\n",
       "    <tr>\n",
       "      <td>fdd</td>\n",
       "      <td>6</td>\n",
       "      <td>4</td>\n",
       "      <td>5</td>\n",
       "      <td>4</td>\n",
       "    </tr>\n",
       "    <tr>\n",
       "      <td>kdd</td>\n",
       "      <td>7</td>\n",
       "      <td>5</td>\n",
       "      <td>6</td>\n",
       "      <td>5</td>\n",
       "    </tr>\n",
       "    <tr>\n",
       "      <td>sdd</td>\n",
       "      <td>8</td>\n",
       "      <td>6</td>\n",
       "      <td>7</td>\n",
       "      <td>6</td>\n",
       "    </tr>\n",
       "  </tbody>\n",
       "</table>\n",
       "</div>"
      ],
      "text/plain": [
       "     p  q  r  s\n",
       "gdd  4  2  3  2\n",
       "edd  5  3  4  3\n",
       "fdd  6  4  5  4\n",
       "kdd  7  5  6  5\n",
       "sdd  8  6  7  6"
      ]
     },
     "execution_count": 11,
     "metadata": {},
     "output_type": "execute_result"
    }
   ],
   "source": [
    "import pandas as pd\n",
    "\n",
    "info =pd.DataFrame({\"p\":[4,5,6,7,8],\n",
    "                  \"q\":[2,3,4,5,6],\n",
    "                  \"r\":[3,4,5,6,7],\n",
    "                  \"s\":[2,3,4,5,6]},\n",
    "                index=['gdd','edd','fdd','kdd','sdd'] ) \n",
    "info"
   ]
  },
  {
   "cell_type": "code",
   "execution_count": 12,
   "metadata": {},
   "outputs": [
    {
     "name": "stdout",
     "output_type": "stream",
     "text": [
      "    p   q   r   s\n",
      "a NaN NaN NaN NaN\n",
      "b NaN NaN NaN NaN\n",
      "c NaN NaN NaN NaN\n",
      "d NaN NaN NaN NaN\n",
      "e NaN NaN NaN NaN\n"
     ]
    }
   ],
   "source": [
    "info1 = info.reindex([\"a\",\"b\",\"c\",\"d\",\"e\"])\n",
    "print(info1)"
   ]
  },
  {
   "cell_type": "code",
   "execution_count": 14,
   "metadata": {},
   "outputs": [
    {
     "name": "stdout",
     "output_type": "stream",
     "text": [
      "     p    q    r    s\n",
      "a  100  100  100  100\n",
      "b  100  100  100  100\n",
      "c  100  100  100  100\n",
      "d  100  100  100  100\n",
      "e  100  100  100  100\n"
     ]
    }
   ],
   "source": [
    "info2 = info.reindex([\"a\",\"b\",\"c\",\"d\",\"e\"],fill_value=100)\n",
    "print(info2)"
   ]
  },
  {
   "cell_type": "code",
   "execution_count": 20,
   "metadata": {},
   "outputs": [
    {
     "name": "stdout",
     "output_type": "stream",
     "text": [
      "       col2      col1\n",
      "1  0.587982 -1.780345\n",
      "2  2.457220 -0.351382\n",
      "3  1.058201 -0.273724\n",
      "4  1.651111  0.405806\n",
      "5  1.043985  2.171227\n",
      "6  1.158255  0.361074\n",
      "7 -0.033683 -1.965329\n",
      "8 -0.051112 -0.664650\n",
      "9  0.635461 -0.925444\n",
      "3  0.385861 -0.956082\n",
      "       col2      col1\n",
      "1  0.587982 -1.780345\n",
      "2  2.457220 -0.351382\n",
      "3  1.058201 -0.273724\n",
      "3  0.385861 -0.956082\n",
      "4  1.651111  0.405806\n",
      "5  1.043985  2.171227\n",
      "6  1.158255  0.361074\n",
      "7 -0.033683 -1.965329\n",
      "8 -0.051112 -0.664650\n",
      "9  0.635461 -0.925444\n"
     ]
    }
   ],
   "source": [
    "import pandas as pd\n",
    "import numpy as np\n",
    "unsorted_df = pd.DataFrame(np.random.randn (10,2), index=[1,2,3,4,5,6,7,8,9,3], columns = ['col2','col1'])\n",
    "print (unsorted_df)\n",
    "sorted_df = unsorted_df.sort_index()\n",
    "print (sorted_df)"
   ]
  },
  {
   "cell_type": "code",
   "execution_count": 21,
   "metadata": {},
   "outputs": [
    {
     "name": "stdout",
     "output_type": "stream",
     "text": [
      "       col2      col1\n",
      "9 -0.533838  1.188877\n",
      "8  0.846530 -0.429080\n",
      "7 -1.138352 -1.299646\n",
      "6 -0.150799  0.320951\n",
      "5 -0.630098  0.351921\n",
      "4  1.554375 -0.401880\n",
      "3  0.009539  1.256675\n",
      "3 -0.009915 -1.118570\n",
      "2  0.476151  0.010233\n",
      "1 -2.572860  0.535895\n"
     ]
    }
   ],
   "source": [
    "import pandas as pd\n",
    "import numpy as np\n",
    "unsorted_df = pd.DataFrame(np.random.randn (10,2), index=[1,2,3,4,5,6,7,8,9,3], columns = ['col2','col1'])\n",
    "sorted_df = unsorted_df.sort_index(ascending=False)\n",
    "print (sorted_df)"
   ]
  },
  {
   "cell_type": "code",
   "execution_count": 22,
   "metadata": {},
   "outputs": [
    {
     "name": "stdout",
     "output_type": "stream",
     "text": [
      "       col1      col2\n",
      "1 -0.449895  0.274135\n",
      "2 -0.572252  2.267550\n",
      "3  0.610974  0.477763\n",
      "4  0.689745 -0.346858\n",
      "5 -0.099406  0.765853\n",
      "6 -1.867445  0.750836\n",
      "7 -0.054157 -0.415617\n",
      "8  0.789465 -0.586943\n",
      "9 -0.964928  0.292712\n",
      "3  1.316475  1.021834\n"
     ]
    }
   ],
   "source": [
    "import pandas as pd\n",
    "import numpy as np\n",
    "unsorted_df = pd.DataFrame(np.random.randn (10,2), index=[1,2,3,4,5,6,7,8,9,3], columns = ['col2','col1'])\n",
    "sorted_df = unsorted_df.sort_index(axis=1)\n",
    "print (sorted_df)"
   ]
  },
  {
   "cell_type": "code",
   "execution_count": 23,
   "metadata": {},
   "outputs": [
    {
     "name": "stdout",
     "output_type": "stream",
     "text": [
      "       col2      col1\n",
      "1  0.315938  1.367733\n",
      "2 -1.543562 -1.283068\n",
      "3  0.560947  0.605758\n",
      "3 -1.003926  0.238087\n",
      "4 -1.634744  0.508373\n",
      "5 -1.362849 -1.930696\n",
      "6 -1.030495 -0.528200\n",
      "7  1.138606  0.369094\n",
      "8  0.910208  0.941981\n",
      "9  0.396576  0.239968\n"
     ]
    }
   ],
   "source": [
    "import pandas as pd\n",
    "import numpy as np\n",
    "unsorted_df = pd.DataFrame(np.random.randn (10,2), index=[1,2,3,4,5,6,7,8,9,3], columns = ['col2','col1'])\n",
    "sorted_df = unsorted_df.sort_index(axis=0)\n",
    "print (sorted_df)"
   ]
  },
  {
   "cell_type": "code",
   "execution_count": 28,
   "metadata": {},
   "outputs": [
    {
     "name": "stdout",
     "output_type": "stream",
     "text": [
      "unsorted\n",
      "   col1  col2\n",
      "0     2     2\n",
      "1     1     2\n",
      "2     1     3\n",
      "3     2     4\n",
      "sorted\n",
      "   col1  col2\n",
      "1     1     2\n",
      "2     1     3\n",
      "0     2     2\n",
      "3     2     4\n"
     ]
    }
   ],
   "source": [
    "import pandas as pd\n",
    "import numpy as np\n",
    "unsorted_df = pd.DataFrame({'col1':[2,1,1,2],'col2':[2,2,3,4]})\n",
    "print ('unsorted')\n",
    "print (unsorted_df)\n",
    "sorted_df = unsorted_df.sort_values (by='col1')\n",
    "print ('sorted')\n",
    "print (sorted_df)"
   ]
  },
  {
   "cell_type": "code",
   "execution_count": 30,
   "metadata": {},
   "outputs": [
    {
     "name": "stdout",
     "output_type": "stream",
     "text": [
      "unsorted\n",
      "   col1  col2\n",
      "0     2     2\n",
      "1     1     2\n",
      "2     1     3\n",
      "3     2     4\n",
      "sorted\n",
      "   col1  col2\n",
      "0     2     2\n",
      "1     1     2\n",
      "2     1     3\n",
      "3     2     4\n"
     ]
    }
   ],
   "source": [
    "import pandas as pd\n",
    "import numpy as np\n",
    "unsorted_df = pd.DataFrame({'col1':[2,1,1,2],'col2':[2,2,3,4]})\n",
    "print ('unsorted')\n",
    "print (unsorted_df)\n",
    "sorted_df = unsorted_df.sort_values (by='col2')\n",
    "print ('sorted')\n",
    "print (sorted_df)"
   ]
  },
  {
   "cell_type": "code",
   "execution_count": 31,
   "metadata": {},
   "outputs": [
    {
     "name": "stdout",
     "output_type": "stream",
     "text": [
      "0        john\n",
      "1       jonny\n",
      "2    janardan\n",
      "3       joker\n",
      "dtype: object\n"
     ]
    }
   ],
   "source": [
    "import pandas as pd\n",
    "import numpy as np\n",
    "\n",
    "\n",
    "ser = pd.Series(['JOHN','JONNY','JANARDAN','JOKER'])\n",
    "print(ser.str.lower())"
   ]
  },
  {
   "cell_type": "code",
   "execution_count": 32,
   "metadata": {},
   "outputs": [
    {
     "name": "stdout",
     "output_type": "stream",
     "text": [
      "0        JOHN\n",
      "1       JONNY\n",
      "2    JANARDAN\n",
      "3       JOKER\n",
      "dtype: object\n"
     ]
    }
   ],
   "source": [
    "import pandas as pd\n",
    "import numpy as np\n",
    "\n",
    "\n",
    "ser = pd.Series(['john','jonny','janardan','joker'])\n",
    "print(ser.str.upper())"
   ]
  },
  {
   "cell_type": "code",
   "execution_count": 1,
   "metadata": {},
   "outputs": [
    {
     "ename": "ValueError",
     "evalue": "Unknown projection '3d'",
     "output_type": "error",
     "traceback": [
      "\u001b[1;31m---------------------------------------------------------------------------\u001b[0m",
      "\u001b[1;31mKeyError\u001b[0m                                  Traceback (most recent call last)",
      "\u001b[1;32m~\\Anaconda3\\lib\\site-packages\\matplotlib\\projections\\__init__.py\u001b[0m in \u001b[0;36mget_projection_class\u001b[1;34m(projection)\u001b[0m\n\u001b[0;32m     57\u001b[0m     \u001b[1;32mtry\u001b[0m\u001b[1;33m:\u001b[0m\u001b[1;33m\u001b[0m\u001b[1;33m\u001b[0m\u001b[0m\n\u001b[1;32m---> 58\u001b[1;33m         \u001b[1;32mreturn\u001b[0m \u001b[0mprojection_registry\u001b[0m\u001b[1;33m.\u001b[0m\u001b[0mget_projection_class\u001b[0m\u001b[1;33m(\u001b[0m\u001b[0mprojection\u001b[0m\u001b[1;33m)\u001b[0m\u001b[1;33m\u001b[0m\u001b[1;33m\u001b[0m\u001b[0m\n\u001b[0m\u001b[0;32m     59\u001b[0m     \u001b[1;32mexcept\u001b[0m \u001b[0mKeyError\u001b[0m\u001b[1;33m:\u001b[0m\u001b[1;33m\u001b[0m\u001b[1;33m\u001b[0m\u001b[0m\n",
      "\u001b[1;32m~\\Anaconda3\\lib\\site-packages\\matplotlib\\projections\\__init__.py\u001b[0m in \u001b[0;36mget_projection_class\u001b[1;34m(self, name)\u001b[0m\n\u001b[0;32m     24\u001b[0m         \"\"\"\n\u001b[1;32m---> 25\u001b[1;33m         \u001b[1;32mreturn\u001b[0m \u001b[0mself\u001b[0m\u001b[1;33m.\u001b[0m\u001b[0m_all_projection_types\u001b[0m\u001b[1;33m[\u001b[0m\u001b[0mname\u001b[0m\u001b[1;33m]\u001b[0m\u001b[1;33m\u001b[0m\u001b[1;33m\u001b[0m\u001b[0m\n\u001b[0m\u001b[0;32m     26\u001b[0m \u001b[1;33m\u001b[0m\u001b[0m\n",
      "\u001b[1;31mKeyError\u001b[0m: '3d'",
      "\nDuring handling of the above exception, another exception occurred:\n",
      "\u001b[1;31mValueError\u001b[0m                                Traceback (most recent call last)",
      "\u001b[1;32m<ipython-input-1-d693293cb830>\u001b[0m in \u001b[0;36m<module>\u001b[1;34m\u001b[0m\n\u001b[0;32m      2\u001b[0m \u001b[1;32mimport\u001b[0m \u001b[0mmatplotlib\u001b[0m\u001b[1;33m.\u001b[0m\u001b[0mpyplot\u001b[0m \u001b[1;32mas\u001b[0m \u001b[0mplt\u001b[0m\u001b[1;33m\u001b[0m\u001b[1;33m\u001b[0m\u001b[0m\n\u001b[0;32m      3\u001b[0m \u001b[0mfig\u001b[0m \u001b[1;33m=\u001b[0m \u001b[0mplt\u001b[0m\u001b[1;33m.\u001b[0m\u001b[0mfigure\u001b[0m\u001b[1;33m(\u001b[0m\u001b[1;33m)\u001b[0m\u001b[1;33m\u001b[0m\u001b[1;33m\u001b[0m\u001b[0m\n\u001b[1;32m----> 4\u001b[1;33m \u001b[0max\u001b[0m \u001b[1;33m=\u001b[0m \u001b[0mplt\u001b[0m\u001b[1;33m.\u001b[0m\u001b[0maxes\u001b[0m\u001b[1;33m(\u001b[0m\u001b[0mprojection\u001b[0m \u001b[1;33m=\u001b[0m\u001b[1;34m'3d'\u001b[0m\u001b[1;33m)\u001b[0m\u001b[1;33m\u001b[0m\u001b[1;33m\u001b[0m\u001b[0m\n\u001b[0m",
      "\u001b[1;32m~\\Anaconda3\\lib\\site-packages\\matplotlib\\pyplot.py\u001b[0m in \u001b[0;36maxes\u001b[1;34m(arg, **kwargs)\u001b[0m\n\u001b[0;32m    875\u001b[0m \u001b[1;33m\u001b[0m\u001b[0m\n\u001b[0;32m    876\u001b[0m     \u001b[1;32mif\u001b[0m \u001b[0marg\u001b[0m \u001b[1;32mis\u001b[0m \u001b[1;32mNone\u001b[0m\u001b[1;33m:\u001b[0m\u001b[1;33m\u001b[0m\u001b[1;33m\u001b[0m\u001b[0m\n\u001b[1;32m--> 877\u001b[1;33m         \u001b[1;32mreturn\u001b[0m \u001b[0msubplot\u001b[0m\u001b[1;33m(\u001b[0m\u001b[1;36m111\u001b[0m\u001b[1;33m,\u001b[0m \u001b[1;33m**\u001b[0m\u001b[0mkwargs\u001b[0m\u001b[1;33m)\u001b[0m\u001b[1;33m\u001b[0m\u001b[1;33m\u001b[0m\u001b[0m\n\u001b[0m\u001b[0;32m    878\u001b[0m     \u001b[1;32melse\u001b[0m\u001b[1;33m:\u001b[0m\u001b[1;33m\u001b[0m\u001b[1;33m\u001b[0m\u001b[0m\n\u001b[0;32m    879\u001b[0m         \u001b[1;32mreturn\u001b[0m \u001b[0mgcf\u001b[0m\u001b[1;33m(\u001b[0m\u001b[1;33m)\u001b[0m\u001b[1;33m.\u001b[0m\u001b[0madd_axes\u001b[0m\u001b[1;33m(\u001b[0m\u001b[0marg\u001b[0m\u001b[1;33m,\u001b[0m \u001b[1;33m**\u001b[0m\u001b[0mkwargs\u001b[0m\u001b[1;33m)\u001b[0m\u001b[1;33m\u001b[0m\u001b[1;33m\u001b[0m\u001b[0m\n",
      "\u001b[1;32m~\\Anaconda3\\lib\\site-packages\\matplotlib\\pyplot.py\u001b[0m in \u001b[0;36msubplot\u001b[1;34m(*args, **kwargs)\u001b[0m\n\u001b[0;32m   1074\u001b[0m \u001b[1;33m\u001b[0m\u001b[0m\n\u001b[0;32m   1075\u001b[0m     \u001b[0mfig\u001b[0m \u001b[1;33m=\u001b[0m \u001b[0mgcf\u001b[0m\u001b[1;33m(\u001b[0m\u001b[1;33m)\u001b[0m\u001b[1;33m\u001b[0m\u001b[1;33m\u001b[0m\u001b[0m\n\u001b[1;32m-> 1076\u001b[1;33m     \u001b[0ma\u001b[0m \u001b[1;33m=\u001b[0m \u001b[0mfig\u001b[0m\u001b[1;33m.\u001b[0m\u001b[0madd_subplot\u001b[0m\u001b[1;33m(\u001b[0m\u001b[1;33m*\u001b[0m\u001b[0margs\u001b[0m\u001b[1;33m,\u001b[0m \u001b[1;33m**\u001b[0m\u001b[0mkwargs\u001b[0m\u001b[1;33m)\u001b[0m\u001b[1;33m\u001b[0m\u001b[1;33m\u001b[0m\u001b[0m\n\u001b[0m\u001b[0;32m   1077\u001b[0m     \u001b[0mbbox\u001b[0m \u001b[1;33m=\u001b[0m \u001b[0ma\u001b[0m\u001b[1;33m.\u001b[0m\u001b[0mbbox\u001b[0m\u001b[1;33m\u001b[0m\u001b[1;33m\u001b[0m\u001b[0m\n\u001b[0;32m   1078\u001b[0m     \u001b[0mbyebye\u001b[0m \u001b[1;33m=\u001b[0m \u001b[1;33m[\u001b[0m\u001b[1;33m]\u001b[0m\u001b[1;33m\u001b[0m\u001b[1;33m\u001b[0m\u001b[0m\n",
      "\u001b[1;32m~\\Anaconda3\\lib\\site-packages\\matplotlib\\figure.py\u001b[0m in \u001b[0;36madd_subplot\u001b[1;34m(self, *args, **kwargs)\u001b[0m\n\u001b[0;32m   1394\u001b[0m         \u001b[1;32melse\u001b[0m\u001b[1;33m:\u001b[0m\u001b[1;33m\u001b[0m\u001b[1;33m\u001b[0m\u001b[0m\n\u001b[0;32m   1395\u001b[0m             \u001b[0mprojection_class\u001b[0m\u001b[1;33m,\u001b[0m \u001b[0mkwargs\u001b[0m\u001b[1;33m,\u001b[0m \u001b[0mkey\u001b[0m \u001b[1;33m=\u001b[0m\u001b[0;31m \u001b[0m\u001b[0;31m\\\u001b[0m\u001b[1;33m\u001b[0m\u001b[1;33m\u001b[0m\u001b[0m\n\u001b[1;32m-> 1396\u001b[1;33m                 \u001b[0mself\u001b[0m\u001b[1;33m.\u001b[0m\u001b[0m_process_projection_requirements\u001b[0m\u001b[1;33m(\u001b[0m\u001b[1;33m*\u001b[0m\u001b[0margs\u001b[0m\u001b[1;33m,\u001b[0m \u001b[1;33m**\u001b[0m\u001b[0mkwargs\u001b[0m\u001b[1;33m)\u001b[0m\u001b[1;33m\u001b[0m\u001b[1;33m\u001b[0m\u001b[0m\n\u001b[0m\u001b[0;32m   1397\u001b[0m \u001b[1;33m\u001b[0m\u001b[0m\n\u001b[0;32m   1398\u001b[0m             \u001b[1;31m# try to find the axes with this key in the stack\u001b[0m\u001b[1;33m\u001b[0m\u001b[1;33m\u001b[0m\u001b[1;33m\u001b[0m\u001b[0m\n",
      "\u001b[1;32m~\\Anaconda3\\lib\\site-packages\\matplotlib\\figure.py\u001b[0m in \u001b[0;36m_process_projection_requirements\u001b[1;34m(self, polar, projection, *args, **kwargs)\u001b[0m\n\u001b[0;32m   1118\u001b[0m \u001b[1;33m\u001b[0m\u001b[0m\n\u001b[0;32m   1119\u001b[0m         \u001b[1;32mif\u001b[0m \u001b[0misinstance\u001b[0m\u001b[1;33m(\u001b[0m\u001b[0mprojection\u001b[0m\u001b[1;33m,\u001b[0m \u001b[0mstr\u001b[0m\u001b[1;33m)\u001b[0m \u001b[1;32mor\u001b[0m \u001b[0mprojection\u001b[0m \u001b[1;32mis\u001b[0m \u001b[1;32mNone\u001b[0m\u001b[1;33m:\u001b[0m\u001b[1;33m\u001b[0m\u001b[1;33m\u001b[0m\u001b[0m\n\u001b[1;32m-> 1120\u001b[1;33m             \u001b[0mprojection_class\u001b[0m \u001b[1;33m=\u001b[0m \u001b[0mprojections\u001b[0m\u001b[1;33m.\u001b[0m\u001b[0mget_projection_class\u001b[0m\u001b[1;33m(\u001b[0m\u001b[0mprojection\u001b[0m\u001b[1;33m)\u001b[0m\u001b[1;33m\u001b[0m\u001b[1;33m\u001b[0m\u001b[0m\n\u001b[0m\u001b[0;32m   1121\u001b[0m         \u001b[1;32melif\u001b[0m \u001b[0mhasattr\u001b[0m\u001b[1;33m(\u001b[0m\u001b[0mprojection\u001b[0m\u001b[1;33m,\u001b[0m \u001b[1;34m'_as_mpl_axes'\u001b[0m\u001b[1;33m)\u001b[0m\u001b[1;33m:\u001b[0m\u001b[1;33m\u001b[0m\u001b[1;33m\u001b[0m\u001b[0m\n\u001b[0;32m   1122\u001b[0m             \u001b[0mprojection_class\u001b[0m\u001b[1;33m,\u001b[0m \u001b[0mextra_kwargs\u001b[0m \u001b[1;33m=\u001b[0m \u001b[0mprojection\u001b[0m\u001b[1;33m.\u001b[0m\u001b[0m_as_mpl_axes\u001b[0m\u001b[1;33m(\u001b[0m\u001b[1;33m)\u001b[0m\u001b[1;33m\u001b[0m\u001b[1;33m\u001b[0m\u001b[0m\n",
      "\u001b[1;32m~\\Anaconda3\\lib\\site-packages\\matplotlib\\projections\\__init__.py\u001b[0m in \u001b[0;36mget_projection_class\u001b[1;34m(projection)\u001b[0m\n\u001b[0;32m     58\u001b[0m         \u001b[1;32mreturn\u001b[0m \u001b[0mprojection_registry\u001b[0m\u001b[1;33m.\u001b[0m\u001b[0mget_projection_class\u001b[0m\u001b[1;33m(\u001b[0m\u001b[0mprojection\u001b[0m\u001b[1;33m)\u001b[0m\u001b[1;33m\u001b[0m\u001b[1;33m\u001b[0m\u001b[0m\n\u001b[0;32m     59\u001b[0m     \u001b[1;32mexcept\u001b[0m \u001b[0mKeyError\u001b[0m\u001b[1;33m:\u001b[0m\u001b[1;33m\u001b[0m\u001b[1;33m\u001b[0m\u001b[0m\n\u001b[1;32m---> 60\u001b[1;33m         \u001b[1;32mraise\u001b[0m \u001b[0mValueError\u001b[0m\u001b[1;33m(\u001b[0m\u001b[1;34m\"Unknown projection %r\"\u001b[0m \u001b[1;33m%\u001b[0m \u001b[0mprojection\u001b[0m\u001b[1;33m)\u001b[0m\u001b[1;33m\u001b[0m\u001b[1;33m\u001b[0m\u001b[0m\n\u001b[0m\u001b[0;32m     61\u001b[0m \u001b[1;33m\u001b[0m\u001b[0m\n\u001b[0;32m     62\u001b[0m \u001b[1;33m\u001b[0m\u001b[0m\n",
      "\u001b[1;31mValueError\u001b[0m: Unknown projection '3d'"
     ]
    }
   ],
   "source": [
    "import numpy as np\n",
    "import matplotlib.pyplot as plt\n",
    "fig = plt.figure()\n",
    "ax = plt.axes(projection ='3d')"
   ]
  },
  {
   "cell_type": "code",
   "execution_count": 1,
   "metadata": {},
   "outputs": [],
   "source": []
  },
  {
   "cell_type": "code",
   "execution_count": null,
   "metadata": {},
   "outputs": [],
   "source": []
  }
 ],
 "metadata": {
  "kernelspec": {
   "display_name": "Python 3",
   "language": "python",
   "name": "python3"
  },
  "language_info": {
   "codemirror_mode": {
    "name": "ipython",
    "version": 3
   },
   "file_extension": ".py",
   "mimetype": "text/x-python",
   "name": "python",
   "nbconvert_exporter": "python",
   "pygments_lexer": "ipython3",
   "version": "3.7.4"
  }
 },
 "nbformat": 4,
 "nbformat_minor": 2
}
